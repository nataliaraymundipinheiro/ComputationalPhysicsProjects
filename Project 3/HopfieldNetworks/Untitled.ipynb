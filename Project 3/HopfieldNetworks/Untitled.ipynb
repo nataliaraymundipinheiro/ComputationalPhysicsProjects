{
 "cells": [
  {
   "cell_type": "code",
   "execution_count": 1,
   "id": "7839b342",
   "metadata": {},
   "outputs": [],
   "source": [
    "import numpy as np"
   ]
  },
  {
   "cell_type": "code",
   "execution_count": 22,
   "id": "1a201bad",
   "metadata": {},
   "outputs": [
    {
     "name": "stdout",
     "output_type": "stream",
     "text": [
      "[]\n",
      "(100, 10, 10)\n"
     ]
    }
   ],
   "source": [
    "weights = []\n",
    "print(weights)\n",
    "\n",
    "for p in range(0,100):\n",
    "    weights.append(np.random.choice([-1,1], size=(10,10)))\n",
    "\n",
    "weights = np.array(weights)\n",
    "print(weights.shape)"
   ]
  },
  {
   "cell_type": "code",
   "execution_count": 50,
   "id": "5bc49dd6",
   "metadata": {},
   "outputs": [
    {
     "ename": "NameError",
     "evalue": "name 'Restore' is not defined",
     "output_type": "error",
     "traceback": [
      "\u001b[0;31m---------------------------------------------------------------------------\u001b[0m",
      "\u001b[0;31mNameError\u001b[0m                                 Traceback (most recent call last)",
      "Cell \u001b[0;32mIn[50], line 25\u001b[0m\n\u001b[1;32m     21\u001b[0m     hamming_distance \u001b[38;5;241m=\u001b[39m image_flattened \u001b[38;5;241m@\u001b[39m final_image_flattened\n\u001b[1;32m     23\u001b[0m     \u001b[38;5;28;01mreturn\u001b[39;00m hamming_distance\n\u001b[0;32m---> 25\u001b[0m \u001b[43mHammingDistance\u001b[49m\u001b[43m(\u001b[49m\u001b[38;5;241;43m100\u001b[39;49m\u001b[43m,\u001b[49m\u001b[38;5;241;43m60\u001b[39;49m\u001b[43m)\u001b[49m\n",
      "Cell \u001b[0;32mIn[50], line 19\u001b[0m, in \u001b[0;36mHammingDistance\u001b[0;34m(p, k)\u001b[0m\n\u001b[1;32m     16\u001b[0m     image_flattened[index] \u001b[38;5;241m=\u001b[39m \u001b[38;5;241m1\u001b[39m \u001b[38;5;28;01mif\u001b[39;00m (image_flattened[index] \u001b[38;5;241m<\u001b[39m \u001b[38;5;241m0\u001b[39m) \u001b[38;5;28;01melse\u001b[39;00m \u001b[38;5;241m-\u001b[39m\u001b[38;5;241m1\u001b[39m\n\u001b[1;32m     18\u001b[0m image \u001b[38;5;241m=\u001b[39m image_flattened\u001b[38;5;241m.\u001b[39mreshape((\u001b[38;5;28mint\u001b[39m(np\u001b[38;5;241m.\u001b[39msqrt(n)), \u001b[38;5;28mint\u001b[39m(np\u001b[38;5;241m.\u001b[39msqrt(n))))\n\u001b[0;32m---> 19\u001b[0m final_image \u001b[38;5;241m=\u001b[39m \u001b[43mRestore\u001b[49m(weights, image)\n\u001b[1;32m     20\u001b[0m final_image_flattened \u001b[38;5;241m=\u001b[39m final_image\u001b[38;5;241m.\u001b[39mflatten()\n\u001b[1;32m     21\u001b[0m hamming_distance \u001b[38;5;241m=\u001b[39m image_flattened \u001b[38;5;241m@\u001b[39m final_image_flattened\n",
      "\u001b[0;31mNameError\u001b[0m: name 'Restore' is not defined"
     ]
    }
   ],
   "source": [
    "def HammingDistance(p, k):\n",
    "    # Add p images to the network\n",
    "    weights = []\n",
    "    for p2 in range(0,p):\n",
    "        weights.append(np.random.choice([-1,1], size=(10,10)))\n",
    "    weights = np.array(weights)\n",
    "    \n",
    "    # Choose one of the p images\n",
    "    image = weights[np.random.choice(np.arange(0,p,step=1))]\n",
    "    image_flattened = image.flatten()\n",
    "    \n",
    "    # Corrupt k bits on that image\n",
    "    n = image_flattened.shape[0]\n",
    "    to_flip = np.random.choice(np.arange(0, n), size=k, replace=False)\n",
    "    for index in to_flip:\n",
    "        image_flattened[index] = 1 if (image_flattened[index] < 0) else -1\n",
    "\n",
    "    image = image_flattened.reshape((int(np.sqrt(n)), int(np.sqrt(n))))\n",
    "    final_image = Restore(weights, image)\n",
    "    final_image_flattened = final_image.flatten()\n",
    "    hamming_distance = image_flattened @ final_image_flattened\n",
    "    \n",
    "    return hamming_distance\n",
    "\n",
    "HammingDistance(100,60)"
   ]
  },
  {
   "cell_type": "code",
   "execution_count": null,
   "id": "530d31cc",
   "metadata": {},
   "outputs": [],
   "source": [
    "for k in range(0,60):\n",
    "    for p in range(0,100):\n",
    "        # Add p images to the network\n",
    "        weights = []\n",
    "        for p2 in range(0,p):\n",
    "            weights.append(np.random.choice([-1,1], size=(10,10)))\n",
    "        weights = np.array(weights)\n",
    "        \n",
    "        # Choose one of the p images\n",
    "        image = np.random.choice(weights)\n",
    "        \n",
    "        # Corrupt k bits on that image\n",
    "\n",
    "        \n",
    "        run the hop field network\n",
    "check the hamming distance from the original image and put the value in M[k,p]"
   ]
  },
  {
   "cell_type": "code",
   "execution_count": null,
   "id": "b7883120",
   "metadata": {},
   "outputs": [],
   "source": []
  },
  {
   "cell_type": "code",
   "execution_count": null,
   "id": "5bcff16b",
   "metadata": {},
   "outputs": [],
   "source": []
  }
 ],
 "metadata": {
  "kernelspec": {
   "display_name": "Python 3 (ipykernel)",
   "language": "python",
   "name": "python3"
  },
  "language_info": {
   "codemirror_mode": {
    "name": "ipython",
    "version": 3
   },
   "file_extension": ".py",
   "mimetype": "text/x-python",
   "name": "python",
   "nbconvert_exporter": "python",
   "pygments_lexer": "ipython3",
   "version": "3.9.13"
  }
 },
 "nbformat": 4,
 "nbformat_minor": 5
}
