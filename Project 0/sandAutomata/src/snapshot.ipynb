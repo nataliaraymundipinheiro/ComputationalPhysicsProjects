{
 "cells": [
  {
   "cell_type": "code",
   "execution_count": 1,
   "id": "97c37876-063e-42a0-8ea3-94a022c6a0de",
   "metadata": {},
   "outputs": [
    {
     "data": {
      "text/plain": [
       "array([[0., 3., 3., 4., 4., 2., 4., 4., 4., 1., 4., 4., 4., 2., 2., 3.,\n",
       "        3., 3., 2., 4., 1., 3., 3., 1., 3.],\n",
       "       [3., 2., 4., 4., 4., 4., 3., 1., 3., 3., 1., 4., 3., 3., 3., 3.,\n",
       "        2., 4., 3., 3., 4., 3., 4., 3., 3.],\n",
       "       [4., 4., 2., 4., 4., 2., 4., 4., 4., 3., 3., 3., 3., 3., 3., 3.,\n",
       "        4., 4., 1., 3., 4., 4., 3., 4., 1.],\n",
       "       [4., 2., 4., 4., 2., 4., 4., 4., 3., 4., 2., 2., 2., 3., 4., 3.,\n",
       "        4., 1., 4., 3., 3., 4., 4., 4., 2.],\n",
       "       [4., 3., 2., 4., 3., 3., 3., 4., 2., 3., 2., 3., 3., 4., 4., 2.,\n",
       "        4., 2., 3., 4., 2., 4., 4., 3., 3.],\n",
       "       [1., 4., 1., 2., 4., 3., 3., 3., 3., 4., 3., 4., 4., 3., 4., 2.,\n",
       "        4., 2., 3., 3., 1., 3., 3., 1., 4.],\n",
       "       [3., 4., 2., 4., 1., 4., 1., 4., 3., 4., 3., 2., 4., 4., 4., 1.,\n",
       "        2., 3., 4., 3., 2., 3., 3., 3., 3.],\n",
       "       [4., 3., 4., 4., 4., 1., 4., 4., 2., 4., 4., 2., 3., 2., 4., 4.,\n",
       "        4., 4., 2., 3., 3., 2., 3., 1., 2.],\n",
       "       [3., 1., 4., 3., 3., 3., 4., 2., 3., 3., 4., 3., 3., 3., 3., 3.,\n",
       "        3., 3., 1., 4., 2., 3., 3., 1., 3.],\n",
       "       [3., 4., 4., 4., 1., 4., 2., 2., 3., 4., 2., 3., 3., 4., 4., 2.,\n",
       "        4., 3., 2., 1., 2., 3., 3., 2., 3.],\n",
       "       [2., 2., 4., 3., 2., 2., 2., 3., 4., 4., 2., 4., 4., 1., 4., 3.,\n",
       "        3., 3., 3., 1., 4., 3., 1., 3., 3.],\n",
       "       [3., 4., 3., 1., 4., 4., 2., 4., 3., 2., 4., 3., 4., 3., 4., 4.,\n",
       "        2., 4., 4., 3., 1., 4., 4., 2., 1.],\n",
       "       [1., 3., 4., 3., 2., 4., 4., 4., 1., 2., 3., 3., 3., 3., 4., 2.,\n",
       "        4., 4., 2., 3., 3., 4., 1., 4., 4.],\n",
       "       [4., 2., 4., 1., 4., 4., 3., 4., 3., 4., 3., 4., 3., 3., 2., 3.,\n",
       "        4., 1., 4., 4., 3., 3., 4., 4., 2.],\n",
       "       [1., 3., 3., 4., 1., 2., 3., 3., 4., 3., 4., 1., 3., 4., 3., 2.,\n",
       "        4., 2., 3., 3., 1., 4., 2., 4., 3.],\n",
       "       [4., 1., 3., 4., 3., 4., 2., 3., 2., 1., 3., 2., 3., 4., 3., 4.,\n",
       "        3., 3., 4., 2., 4., 2., 2., 4., 4.],\n",
       "       [2., 2., 4., 3., 4., 4., 4., 2., 4., 3., 3., 3., 4., 1., 4., 3.,\n",
       "        4., 4., 3., 4., 2., 4., 3., 4., 1.],\n",
       "       [4., 4., 2., 2., 3., 3., 3., 4., 3., 4., 4., 4., 4., 3., 2., 1.,\n",
       "        3., 4., 3., 2., 4., 4., 2., 3., 2.],\n",
       "       [4., 4., 3., 1., 4., 4., 3., 3., 4., 4., 2., 2., 2., 3., 3., 3.,\n",
       "        1., 2., 3., 3., 3., 1., 2., 4., 4.],\n",
       "       [2., 0., 4., 3., 4., 4., 4., 4., 1., 4., 4., 4., 3., 4., 4., 4.,\n",
       "        4., 2., 4., 4., 3., 4., 3., 1., 2.],\n",
       "       [2., 4., 4., 4., 3., 3., 4., 3., 3., 4., 4., 4., 1., 2., 4., 4.,\n",
       "        4., 4., 4., 3., 2., 4., 3., 2., 3.],\n",
       "       [2., 2., 1., 2., 4., 3., 4., 2., 4., 4., 1., 4., 4., 4., 1., 3.,\n",
       "        3., 4., 3., 1., 4., 4., 3., 3., 3.],\n",
       "       [4., 2., 3., 3., 4., 3., 4., 4., 4., 4., 3., 2., 2., 4., 4., 3.,\n",
       "        3., 4., 4., 4., 1., 2., 3., 4., 2.],\n",
       "       [2., 3., 4., 3., 2., 2., 3., 1., 3., 4., 3., 1., 2., 4., 3., 1.,\n",
       "        3., 4., 1., 3., 4., 4., 4., 3., 4.],\n",
       "       [3., 4., 3., 1., 3., 3., 3., 3., 2., 3., 1., 4., 3., 3., 4., 3.,\n",
       "        1., 4., 3., 4., 2., 2., 2., 3., 1.]])"
      ]
     },
     "execution_count": 1,
     "metadata": {},
     "output_type": "execute_result"
    }
   ],
   "source": [
    "import numpy as np\n",
    "\n",
    "\n",
    "snapshot = np.loadtxt(\"../snapshot.txt\")\n",
    "snapshot"
   ]
  },
  {
   "cell_type": "code",
   "execution_count": 2,
   "id": "bbd79490-d9f1-4bcd-b67b-6b7c6440ff26",
   "metadata": {},
   "outputs": [
    {
     "data": {
      "image/png": "[encoded data removed]",
      "text/plain": [
       "<Figure size 640x480 with 1 Axes>"
      ]
     },
     "metadata": {},
     "output_type": "display_data"
    }
   ],
   "source": [
    "import matplotlib.pyplot as plt\n",
    "\n",
    "\n",
    "# plt.xlabel(\"Steps\")\n",
    "# plt.ylabel(\"Size of Avalanches\")\n",
    "\n",
    "# plt.title(\"Sand Automata: Size of Avalanche over Time\")\n",
    "\n",
    "plt.imshow(snapshot, interpolation='none')\n",
    "plt.savefig(\"../graphs/snapshot.png\", dpi=500)"
   ]
  },
  {
   "cell_type": "code",
   "execution_count": null,
   "id": "131a406d-9545-486a-9de4-62edcbd53941",
   "metadata": {},
   "outputs": [],
   "source": []
  }
 ],
 "metadata": {
  "kernelspec": {
   "display_name": "Python 3 (ipykernel)",
   "language": "python",
   "name": "python3"
  },
  "language_info": {
   "codemirror_mode": {
    "name": "ipython",
    "version": 3
   },
   "file_extension": ".py",
   "mimetype": "text/x-python",
   "name": "python",
   "nbconvert_exporter": "python",
   "pygments_lexer": "ipython3",
   "version": "3.9.13"
  }
 },
 "nbformat": 4,
 "nbformat_minor": 5
}
